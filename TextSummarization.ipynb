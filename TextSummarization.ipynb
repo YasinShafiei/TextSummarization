{
 "cells": [
  {
   "cell_type": "markdown",
   "id": "891b4b64-b7df-4c1d-bd58-722bbfe7236d",
   "metadata": {},
   "source": [
    "# Text Summarization\n",
    "Nowadays, AI can do anything, it can classify images, it can write articles, it can create images and also summarize texts! So in this code we are getting into\n",
    " text summarization. This notebook is the data loading and model training of this application. The GUI app is available in the release page. There are many steps towards implemeting this project. However, the main one is the model structure. In this type of applications, the input and output are both sequences. These types of models are called **Seq2Seq** models. More on that in the model creation part.\n",
    " <br>\n",
    "## Steps:\n",
    "\n",
    "\n",
    "1.   **Setup**\n",
    "2.   **Data prepration**\n",
    "      * Reading the data\n",
    "      * Preprocessing\n",
    "3.   **Model and Training**\n",
    "      * Setup training\n",
    "      * Model creation\n",
    "      * Training\n",
    "4.   **Evaluation and testing**\n",
    "\n",
    "\n",
    "---\n",
    "\n"
   ]
  },
  {
   "cell_type": "markdown",
   "id": "6682412a-91fb-4d84-aca4-84e617143b16",
   "metadata": {},
   "source": [
    "# Setup\n",
    "Loading and setting up libraries for the training process"
   ]
  },
  {
   "cell_type": "code",
   "execution_count": 1,
   "id": "d09ed8d5-7550-4aaa-b3fa-9ffdd2b39cfa",
   "metadata": {},
   "outputs": [],
   "source": [
    "# import all libraries\n",
    "import tensorflow as tf\n",
    "from tensorflow.keras.models import Model, load_model\n",
    "from tensorflow.keras.layers import *\n",
    "from keras.preprocessing.text import Tokenizer \n",
    "from tensorflow.keras.preprocessing.sequence import pad_sequences\n",
    "from tensorflow.keras.callbacks import EarlyStopping, ReduceLROnPlateau\n",
    "import warnings\n",
    "from nltk.corpus import stopwords\n",
    "import numpy as np\n",
    "import pandas as pd \n",
    "import re\n",
    "from sklearn.model_selection import train_test_split as tts\n",
    "from bs4 import BeautifulSoup\n",
    "from attention import AttentionLayer\n",
    "import matplotlib.pyplot as plt\n",
    "import pickle"
   ]
  },
  {
   "cell_type": "code",
   "execution_count": 2,
   "id": "c63440d2-6113-4cf8-bc21-659218d39729",
   "metadata": {},
   "outputs": [],
   "source": [
    "# Avoid OOM errors by setting GPU Memory Consumption Growth\n",
    "gpus = tf.config.experimental.list_physical_devices('GPU')\n",
    "for gpu in gpus: \n",
    "    tf.config.experimental.set_memory_growth(gpu, True)"
   ]
  },
  {
   "cell_type": "code",
   "execution_count": 3,
   "id": "ff9e4e6d-1db6-47b0-ad83-d48f80dafc94",
   "metadata": {},
   "outputs": [],
   "source": [
    "stop_words = set(stopwords.words('english')) "
   ]
  },
  {
   "cell_type": "code",
   "execution_count": 4,
   "id": "1ed93296-fde2-46d1-9568-808f1f11d62b",
   "metadata": {},
   "outputs": [],
   "source": [
    "pd.set_option(\"display.max_colwidth\", 200)\n",
    "warnings.filterwarnings(\"ignore\")"
   ]
  },
  {
   "cell_type": "markdown",
   "id": "fdb8ebe0-b616-48c3-accb-b88bb4290d17",
   "metadata": {},
   "source": [
    "# Data Prepration\n",
    "The data which is going to be used for the training process is the CNN Daily Mail with it's summaries. This data is downloaded via the following link: <br>\n",
    "THE LINK<br>\n",
    "This data containes many columns, but all of all of them are going to be dropped excpet `text` and `summary ` as these are the inputs and outputs. In the first part of this process, the `.csv` file named `data.csv` is going to be loaded and as mentioned, all the useless columns will be removed using `pd.drop()`. In the preprocessing step, First the data is going to be cleared. The contractions will be mapped, All stopwords will be deleted and everything will get clean for the rest of the project. After, we are going to remove outliers. They are basically datas that are out of the ranges. More details will be provided in its dedicated section. At the end, the data will be splited and everything will get tokenized."
   ]
  },
  {
   "cell_type": "markdown",
   "id": "326533bd-bb5f-4be4-bc68-a1e3c27393ad",
   "metadata": {},
   "source": [
    "## Data Loading\n"
   ]
  },
  {
   "cell_type": "code",
   "execution_count": 5,
   "id": "7cbdce70-de94-4346-b561-226560d26e2f",
   "metadata": {},
   "outputs": [],
   "source": [
    "# load the data\n",
    "df = pd.read_csv(\"data/Reviews.csv\", nrows=250000)"
   ]
  },
  {
   "cell_type": "code",
   "execution_count": 6,
   "id": "ce915bdc-42f3-4ffd-87e3-72f4ab8c5c81",
   "metadata": {},
   "outputs": [
    {
     "data": {
      "text/html": [
       "<div>\n",
       "<style scoped>\n",
       "    .dataframe tbody tr th:only-of-type {\n",
       "        vertical-align: middle;\n",
       "    }\n",
       "\n",
       "    .dataframe tbody tr th {\n",
       "        vertical-align: top;\n",
       "    }\n",
       "\n",
       "    .dataframe thead th {\n",
       "        text-align: right;\n",
       "    }\n",
       "</style>\n",
       "<table border=\"1\" class=\"dataframe\">\n",
       "  <thead>\n",
       "    <tr style=\"text-align: right;\">\n",
       "      <th></th>\n",
       "      <th>Id</th>\n",
       "      <th>ProductId</th>\n",
       "      <th>UserId</th>\n",
       "      <th>ProfileName</th>\n",
       "      <th>HelpfulnessNumerator</th>\n",
       "      <th>HelpfulnessDenominator</th>\n",
       "      <th>Score</th>\n",
       "      <th>Time</th>\n",
       "      <th>Summary</th>\n",
       "      <th>Text</th>\n",
       "    </tr>\n",
       "  </thead>\n",
       "  <tbody>\n",
       "    <tr>\n",
       "      <th>0</th>\n",
       "      <td>1</td>\n",
       "      <td>B001E4KFG0</td>\n",
       "      <td>A3SGXH7AUHU8GW</td>\n",
       "      <td>delmartian</td>\n",
       "      <td>1</td>\n",
       "      <td>1</td>\n",
       "      <td>5</td>\n",
       "      <td>1303862400</td>\n",
       "      <td>Good Quality Dog Food</td>\n",
       "      <td>I have bought several of the Vitality canned dog food products and have found them all to be of good quality. The product looks more like a stew than a processed meat and it smells better. My Labr...</td>\n",
       "    </tr>\n",
       "    <tr>\n",
       "      <th>1</th>\n",
       "      <td>2</td>\n",
       "      <td>B00813GRG4</td>\n",
       "      <td>A1D87F6ZCVE5NK</td>\n",
       "      <td>dll pa</td>\n",
       "      <td>0</td>\n",
       "      <td>0</td>\n",
       "      <td>1</td>\n",
       "      <td>1346976000</td>\n",
       "      <td>Not as Advertised</td>\n",
       "      <td>Product arrived labeled as Jumbo Salted Peanuts...the peanuts were actually small sized unsalted. Not sure if this was an error or if the vendor intended to represent the product as \"Jumbo\".</td>\n",
       "    </tr>\n",
       "    <tr>\n",
       "      <th>2</th>\n",
       "      <td>3</td>\n",
       "      <td>B000LQOCH0</td>\n",
       "      <td>ABXLMWJIXXAIN</td>\n",
       "      <td>Natalia Corres \"Natalia Corres\"</td>\n",
       "      <td>1</td>\n",
       "      <td>1</td>\n",
       "      <td>4</td>\n",
       "      <td>1219017600</td>\n",
       "      <td>\"Delight\" says it all</td>\n",
       "      <td>This is a confection that has been around a few centuries.  It is a light, pillowy citrus gelatin with nuts - in this case Filberts. And it is cut into tiny squares and then liberally coated with ...</td>\n",
       "    </tr>\n",
       "    <tr>\n",
       "      <th>3</th>\n",
       "      <td>4</td>\n",
       "      <td>B000UA0QIQ</td>\n",
       "      <td>A395BORC6FGVXV</td>\n",
       "      <td>Karl</td>\n",
       "      <td>3</td>\n",
       "      <td>3</td>\n",
       "      <td>2</td>\n",
       "      <td>1307923200</td>\n",
       "      <td>Cough Medicine</td>\n",
       "      <td>If you are looking for the secret ingredient in Robitussin I believe I have found it.  I got this in addition to the Root Beer Extract I ordered (which was good) and made some cherry soda.  The fl...</td>\n",
       "    </tr>\n",
       "    <tr>\n",
       "      <th>4</th>\n",
       "      <td>5</td>\n",
       "      <td>B006K2ZZ7K</td>\n",
       "      <td>A1UQRSCLF8GW1T</td>\n",
       "      <td>Michael D. Bigham \"M. Wassir\"</td>\n",
       "      <td>0</td>\n",
       "      <td>0</td>\n",
       "      <td>5</td>\n",
       "      <td>1350777600</td>\n",
       "      <td>Great taffy</td>\n",
       "      <td>Great taffy at a great price.  There was a wide assortment of yummy taffy.  Delivery was very quick.  If your a taffy lover, this is a deal.</td>\n",
       "    </tr>\n",
       "  </tbody>\n",
       "</table>\n",
       "</div>"
      ],
      "text/plain": [
       "   Id   ProductId          UserId                      ProfileName  \\\n",
       "0   1  B001E4KFG0  A3SGXH7AUHU8GW                       delmartian   \n",
       "1   2  B00813GRG4  A1D87F6ZCVE5NK                           dll pa   \n",
       "2   3  B000LQOCH0   ABXLMWJIXXAIN  Natalia Corres \"Natalia Corres\"   \n",
       "3   4  B000UA0QIQ  A395BORC6FGVXV                             Karl   \n",
       "4   5  B006K2ZZ7K  A1UQRSCLF8GW1T    Michael D. Bigham \"M. Wassir\"   \n",
       "\n",
       "   HelpfulnessNumerator  HelpfulnessDenominator  Score        Time  \\\n",
       "0                     1                       1      5  1303862400   \n",
       "1                     0                       0      1  1346976000   \n",
       "2                     1                       1      4  1219017600   \n",
       "3                     3                       3      2  1307923200   \n",
       "4                     0                       0      5  1350777600   \n",
       "\n",
       "                 Summary  \\\n",
       "0  Good Quality Dog Food   \n",
       "1      Not as Advertised   \n",
       "2  \"Delight\" says it all   \n",
       "3         Cough Medicine   \n",
       "4            Great taffy   \n",
       "\n",
       "                                                                                                                                                                                                      Text  \n",
       "0  I have bought several of the Vitality canned dog food products and have found them all to be of good quality. The product looks more like a stew than a processed meat and it smells better. My Labr...  \n",
       "1           Product arrived labeled as Jumbo Salted Peanuts...the peanuts were actually small sized unsalted. Not sure if this was an error or if the vendor intended to represent the product as \"Jumbo\".  \n",
       "2  This is a confection that has been around a few centuries.  It is a light, pillowy citrus gelatin with nuts - in this case Filberts. And it is cut into tiny squares and then liberally coated with ...  \n",
       "3  If you are looking for the secret ingredient in Robitussin I believe I have found it.  I got this in addition to the Root Beer Extract I ordered (which was good) and made some cherry soda.  The fl...  \n",
       "4                                                             Great taffy at a great price.  There was a wide assortment of yummy taffy.  Delivery was very quick.  If your a taffy lover, this is a deal.  "
      ]
     },
     "execution_count": 6,
     "metadata": {},
     "output_type": "execute_result"
    }
   ],
   "source": [
    "df.head()"
   ]
  },
  {
   "cell_type": "code",
   "execution_count": 7,
   "id": "d0712870-65c9-4b5c-aa5f-478e22b0c913",
   "metadata": {},
   "outputs": [],
   "source": [
    "# Drop Duplicates and NAs\n",
    "df.drop_duplicates(subset=['Text'],inplace=True)\n",
    "df.dropna(axis=0,inplace=True)"
   ]
  },
  {
   "cell_type": "code",
   "execution_count": 8,
   "id": "8b089208-7f3b-4133-8d8b-13c1deefc4a6",
   "metadata": {},
   "outputs": [
    {
     "name": "stdout",
     "output_type": "stream",
     "text": [
      "<class 'pandas.core.frame.DataFrame'>\n",
      "Index: 197824 entries, 0 to 249902\n",
      "Data columns (total 10 columns):\n",
      " #   Column                  Non-Null Count   Dtype \n",
      "---  ------                  --------------   ----- \n",
      " 0   Id                      197824 non-null  int64 \n",
      " 1   ProductId               197824 non-null  object\n",
      " 2   UserId                  197824 non-null  object\n",
      " 3   ProfileName             197824 non-null  object\n",
      " 4   HelpfulnessNumerator    197824 non-null  int64 \n",
      " 5   HelpfulnessDenominator  197824 non-null  int64 \n",
      " 6   Score                   197824 non-null  int64 \n",
      " 7   Time                    197824 non-null  int64 \n",
      " 8   Summary                 197824 non-null  object\n",
      " 9   Text                    197824 non-null  object\n",
      "dtypes: int64(5), object(5)\n",
      "memory usage: 16.6+ MB\n"
     ]
    }
   ],
   "source": [
    "df.info()"
   ]
  },
  {
   "cell_type": "markdown",
   "id": "d70b1206-9217-426c-b269-6bfca45a1665",
   "metadata": {},
   "source": [
    "## Preprocessing\n",
    "To preprocess the dataset, there are several things that should be done. First, the data must be cleaned. All of the stopwords, symbols, etc should be removed and contraction mapping should be done. After this, we should split the data for tokenization. It will be tokenized and ready for the model's training."
   ]
  },
  {
   "cell_type": "markdown",
   "id": "b965d788-2a82-4683-9507-b00e4ed20c6b",
   "metadata": {},
   "source": [
    "### Text Cleaning\n",
    "In thie section, first the text will be cleaned. after that outliers will be removed and then everything will get ready for the next step"
   ]
  },
  {
   "cell_type": "code",
   "execution_count": 9,
   "id": "71d68712-e28d-4af7-b5b9-1ad2f70d86a0",
   "metadata": {},
   "outputs": [],
   "source": [
    "# define a dictionary for contracition mapping \n",
    "contraction_mapping = {\"ain't\": \"is not\", \"aren't\": \"are not\",\"can't\": \"cannot\", \"'cause\": \"because\", \"could've\": \"could have\", \"couldn't\": \"could not\",\n",
    "                           \"didn't\": \"did not\",  \"doesn't\": \"does not\", \"don't\": \"do not\", \"hadn't\": \"had not\", \"hasn't\": \"has not\", \"haven't\": \"have not\",\n",
    "                           \"he'd\": \"he would\",\"he'll\": \"he will\", \"he's\": \"he is\", \"how'd\": \"how did\", \"how'd'y\": \"how do you\", \"how'll\": \"how will\", \"how's\": \"how is\",\n",
    "                           \"I'd\": \"I would\", \"I'd've\": \"I would have\", \"I'll\": \"I will\", \"I'll've\": \"I will have\",\"I'm\": \"I am\", \"I've\": \"I have\", \"i'd\": \"i would\",\n",
    "                           \"i'd've\": \"i would have\", \"i'll\": \"i will\",  \"i'll've\": \"i will have\",\"i'm\": \"i am\", \"i've\": \"i have\", \"isn't\": \"is not\", \"it'd\": \"it would\",\n",
    "                           \"it'd've\": \"it would have\", \"it'll\": \"it will\", \"it'll've\": \"it will have\",\"it's\": \"it is\", \"let's\": \"let us\", \"ma'am\": \"madam\",\n",
    "                           \"mayn't\": \"may not\", \"might've\": \"might have\",\"mightn't\": \"might not\",\"mightn't've\": \"might not have\", \"must've\": \"must have\",\n",
    "                           \"mustn't\": \"must not\", \"mustn't've\": \"must not have\", \"needn't\": \"need not\", \"needn't've\": \"need not have\",\"o'clock\": \"of the clock\",\n",
    "                           \"oughtn't\": \"ought not\", \"oughtn't've\": \"ought not have\", \"shan't\": \"shall not\", \"sha'n't\": \"shall not\", \"shan't've\": \"shall not have\",\n",
    "                           \"she'd\": \"she would\", \"she'd've\": \"she would have\", \"she'll\": \"she will\", \"she'll've\": \"she will have\", \"she's\": \"she is\",\n",
    "                           \"should've\": \"should have\", \"shouldn't\": \"should not\", \"shouldn't've\": \"should not have\", \"so've\": \"so have\",\"so's\": \"so as\",\n",
    "                           \"this's\": \"this is\",\"that'd\": \"that would\", \"that'd've\": \"that would have\", \"that's\": \"that is\", \"there'd\": \"there would\",\n",
    "                           \"there'd've\": \"there would have\", \"there's\": \"there is\", \"here's\": \"here is\",\"they'd\": \"they would\", \"they'd've\": \"they would have\",\n",
    "                           \"they'll\": \"they will\", \"they'll've\": \"they will have\", \"they're\": \"they are\", \"they've\": \"they have\", \"to've\": \"to have\",\n",
    "                           \"wasn't\": \"was not\", \"we'd\": \"we would\", \"we'd've\": \"we would have\", \"we'll\": \"we will\", \"we'll've\": \"we will have\", \"we're\": \"we are\",\n",
    "                           \"we've\": \"we have\", \"weren't\": \"were not\", \"what'll\": \"what will\", \"what'll've\": \"what will have\", \"what're\": \"what are\",\n",
    "                           \"what's\": \"what is\", \"what've\": \"what have\", \"when's\": \"when is\", \"when've\": \"when have\", \"where'd\": \"where did\", \"where's\": \"where is\",\n",
    "                           \"where've\": \"where have\", \"who'll\": \"who will\", \"who'll've\": \"who will have\", \"who's\": \"who is\", \"who've\": \"who have\",\n",
    "                           \"why's\": \"why is\", \"why've\": \"why have\", \"will've\": \"will have\", \"won't\": \"will not\", \"won't've\": \"will not have\",\n",
    "                           \"would've\": \"would have\", \"wouldn't\": \"would not\", \"wouldn't've\": \"would not have\", \"y'all\": \"you all\",\n",
    "                           \"y'all'd\": \"you all would\",\"y'all'd've\": \"you all would have\",\"y'all're\": \"you all are\",\"y'all've\": \"you all have\",\n",
    "                           \"you'd\": \"you would\", \"you'd've\": \"you would have\", \"you'll\": \"you will\", \"you'll've\": \"you will have\",\n",
    "                           \"you're\": \"you are\", \"you've\": \"you have\"}"
   ]
  },
  {
   "cell_type": "code",
   "execution_count": 10,
   "id": "2d3cff0b-ae65-42e7-8b80-ceefc97fef4d",
   "metadata": {},
   "outputs": [],
   "source": [
    "def text_cleaner(text, num):\n",
    "    \"\"\"\n",
    "    This function cleans a text by removing everything :)\n",
    "    \"\"\"\n",
    "    # define new string \n",
    "    newString = text.lower()\n",
    "    newString = BeautifulSoup(newString, \"lxml\").text\n",
    "    newString = re.sub(r'\\([^)]*\\)', '', newString)\n",
    "    newString = re.sub('\"','', newString)\n",
    "    newString = ' '.join([contraction_mapping[t] if t in contraction_mapping else t for t in newString.split(\" \")])    \n",
    "    newString = re.sub(r\"'s\\b\",\"\",newString)\n",
    "    newString = re.sub(\"[^a-zA-Z]\", \" \", newString) \n",
    "    newString = re.sub('[m]{2,}', 'mm', newString)\n",
    "\n",
    "    # Clean texts with number 0\n",
    "    if num == 0:\n",
    "        tokens = [w for w in newString.split() if not w in stop_words]\n",
    "\n",
    "    # Clean Summaries with number 1\n",
    "    else:\n",
    "        tokens=newString.split()\n",
    "    \n",
    "    long_words = []\n",
    "    for i in tokens:\n",
    "        if len(i) > 1:\n",
    "            long_words.append(i)   \n",
    "    return (\" \".join(long_words)).strip()"
   ]
  },
  {
   "cell_type": "markdown",
   "id": "c2cc410e-1920-4400-8a19-b5b5e2a1d920",
   "metadata": {},
   "source": [
    "The `text_cleaner()` function gets to parameters. One is the text which is going to be cleaned and the other is a number. In here, 0 indates that the function should clean the main text and 1 cleaning the summary.\n",
    "We are going to define 2 seperate lists, one for cleaned texts and another for cleaned summary. Then a dataframe will be made with both of them."
   ]
  },
  {
   "cell_type": "code",
   "execution_count": 11,
   "id": "667d46ab-ac3d-44d0-bd54-7a7a596a8b13",
   "metadata": {},
   "outputs": [],
   "source": [
    "# clean the text \n",
    "cleaned_texts = []\n",
    "\n",
    "for t in df[\"Text\"]:\n",
    "    cleaned_texts.append(text_cleaner(t, 0))"
   ]
  },
  {
   "cell_type": "code",
   "execution_count": 12,
   "id": "7211586e-22c4-4e8d-b8ac-e266d6bc16a4",
   "metadata": {},
   "outputs": [],
   "source": [
    "# clean summaries\n",
    "cleaned_summaries = []\n",
    "\n",
    "for s in df[\"Summary\"]:\n",
    "    cleaned_summaries.append(text_cleaner(s, 1))"
   ]
  },
  {
   "cell_type": "code",
   "execution_count": 13,
   "id": "ee0f12c5-2867-486c-9004-6dca7b0576be",
   "metadata": {},
   "outputs": [],
   "source": [
    "# create new dataframe for the cleaned texts and summaries \n",
    "dataframe = pd.DataFrame(columns=[\"text\", \"summary\"])\n",
    "# put cleaned version of texts and summaries into the dataframe\n",
    "dataframe[\"text\"] = cleaned_texts\n",
    "dataframe[\"summary\"] = cleaned_summaries"
   ]
  },
  {
   "cell_type": "code",
   "execution_count": 14,
   "id": "58eecb81-fb1f-4226-8425-508e66588119",
   "metadata": {},
   "outputs": [
    {
     "data": {
      "text/html": [
       "<div>\n",
       "<style scoped>\n",
       "    .dataframe tbody tr th:only-of-type {\n",
       "        vertical-align: middle;\n",
       "    }\n",
       "\n",
       "    .dataframe tbody tr th {\n",
       "        vertical-align: top;\n",
       "    }\n",
       "\n",
       "    .dataframe thead th {\n",
       "        text-align: right;\n",
       "    }\n",
       "</style>\n",
       "<table border=\"1\" class=\"dataframe\">\n",
       "  <thead>\n",
       "    <tr style=\"text-align: right;\">\n",
       "      <th></th>\n",
       "      <th>text</th>\n",
       "      <th>summary</th>\n",
       "    </tr>\n",
       "  </thead>\n",
       "  <tbody>\n",
       "    <tr>\n",
       "      <th>0</th>\n",
       "      <td>bought several vitality canned dog food products found good quality product looks like stew processed meat smells better labrador finicky appreciates product better</td>\n",
       "      <td>good quality dog food</td>\n",
       "    </tr>\n",
       "    <tr>\n",
       "      <th>1</th>\n",
       "      <td>product arrived labeled jumbo salted peanuts peanuts actually small sized unsalted sure error vendor intended represent product jumbo</td>\n",
       "      <td>not as advertised</td>\n",
       "    </tr>\n",
       "    <tr>\n",
       "      <th>2</th>\n",
       "      <td>confection around centuries light pillowy citrus gelatin nuts case filberts cut tiny squares liberally coated powdered sugar tiny mouthful heaven chewy flavorful highly recommend yummy treat famil...</td>\n",
       "      <td>delight says it all</td>\n",
       "    </tr>\n",
       "    <tr>\n",
       "      <th>3</th>\n",
       "      <td>looking secret ingredient robitussin believe found got addition root beer extract ordered made cherry soda flavor medicinal</td>\n",
       "      <td>cough medicine</td>\n",
       "    </tr>\n",
       "    <tr>\n",
       "      <th>4</th>\n",
       "      <td>great taffy great price wide assortment yummy taffy delivery quick taffy lover deal</td>\n",
       "      <td>great taffy</td>\n",
       "    </tr>\n",
       "    <tr>\n",
       "      <th>...</th>\n",
       "      <td>...</td>\n",
       "      <td>...</td>\n",
       "    </tr>\n",
       "    <tr>\n",
       "      <th>197819</th>\n",
       "      <td>yes picture incorrect get two packs single packs total single packs right complain cheap honestly always thought getting powders two sticks rip kid really recommend posting picture real product ge...</td>\n",
       "      <td>wrong picture but still cheap</td>\n",
       "    </tr>\n",
       "    <tr>\n",
       "      <th>197820</th>\n",
       "      <td>purchasing keep mind picture dishonest misleading shows flavor pack two lik sticks yet received fun dip individual flavor packs one lik stick per flavor misleading purchased idea would flavors two...</td>\n",
       "      <td>misleading picture</td>\n",
       "    </tr>\n",
       "    <tr>\n",
       "      <th>197821</th>\n",
       "      <td>picture shows fun dip triple pack comes flavors two sticks sent got single packs late return need halloween change picture amazon</td>\n",
       "      <td>not as pictured</td>\n",
       "    </tr>\n",
       "    <tr>\n",
       "      <th>197822</th>\n",
       "      <td>dog loves first adopted would eat expensive tried several brands found much cheaper brand wal mart places loves</td>\n",
       "      <td>yummy for dogs but expensive</td>\n",
       "    </tr>\n",
       "    <tr>\n",
       "      <th>197823</th>\n",
       "      <td>far absolute best cake mix ever tried since gluten free would never know gf</td>\n",
       "      <td>the best</td>\n",
       "    </tr>\n",
       "  </tbody>\n",
       "</table>\n",
       "<p>197824 rows × 2 columns</p>\n",
       "</div>"
      ],
      "text/plain": [
       "                                                                                                                                                                                                           text  \\\n",
       "0                                          bought several vitality canned dog food products found good quality product looks like stew processed meat smells better labrador finicky appreciates product better   \n",
       "1                                                                         product arrived labeled jumbo salted peanuts peanuts actually small sized unsalted sure error vendor intended represent product jumbo   \n",
       "2       confection around centuries light pillowy citrus gelatin nuts case filberts cut tiny squares liberally coated powdered sugar tiny mouthful heaven chewy flavorful highly recommend yummy treat famil...   \n",
       "3                                                                                   looking secret ingredient robitussin believe found got addition root beer extract ordered made cherry soda flavor medicinal   \n",
       "4                                                                                                                           great taffy great price wide assortment yummy taffy delivery quick taffy lover deal   \n",
       "...                                                                                                                                                                                                         ...   \n",
       "197819  yes picture incorrect get two packs single packs total single packs right complain cheap honestly always thought getting powders two sticks rip kid really recommend posting picture real product ge...   \n",
       "197820  purchasing keep mind picture dishonest misleading shows flavor pack two lik sticks yet received fun dip individual flavor packs one lik stick per flavor misleading purchased idea would flavors two...   \n",
       "197821                                                                        picture shows fun dip triple pack comes flavors two sticks sent got single packs late return need halloween change picture amazon   \n",
       "197822                                                                                          dog loves first adopted would eat expensive tried several brands found much cheaper brand wal mart places loves   \n",
       "197823                                                                                                                              far absolute best cake mix ever tried since gluten free would never know gf   \n",
       "\n",
       "                              summary  \n",
       "0               good quality dog food  \n",
       "1                   not as advertised  \n",
       "2                 delight says it all  \n",
       "3                      cough medicine  \n",
       "4                         great taffy  \n",
       "...                               ...  \n",
       "197819  wrong picture but still cheap  \n",
       "197820             misleading picture  \n",
       "197821                not as pictured  \n",
       "197822   yummy for dogs but expensive  \n",
       "197823                       the best  \n",
       "\n",
       "[197824 rows x 2 columns]"
      ]
     },
     "execution_count": 14,
     "metadata": {},
     "output_type": "execute_result"
    }
   ],
   "source": [
    "dataframe"
   ]
  },
  {
   "cell_type": "code",
   "execution_count": 15,
   "id": "5f08112e-f848-4b1f-adea-d8dc927e578f",
   "metadata": {},
   "outputs": [],
   "source": [
    "dataframe.replace('', np.nan, inplace=True)\n",
    "dataframe.dropna(axis=0,inplace=True)"
   ]
  },
  {
   "cell_type": "code",
   "execution_count": 16,
   "id": "1536f399-b65c-4cd9-86c3-3b187516a21b",
   "metadata": {},
   "outputs": [],
   "source": [
    "# define text and summary max lengths \n",
    "MAX_TEXT_LEN = 50\n",
    "MAX_SUMMARY_LEN = 10"
   ]
  },
  {
   "cell_type": "markdown",
   "id": "fdb0f56b-677a-4a48-aa2c-af8a54230026",
   "metadata": {},
   "source": [
    "### Just keep summaries and text within limits \n",
    "To have better training, we are going to remove outliers. Outliers are the datas that are really outside of what we want. In this case texts that are more than 70 words and summaries more than 10 words."
   ]
  },
  {
   "cell_type": "code",
   "execution_count": 17,
   "id": "94107d4c-b6a4-4e2e-98f5-b4f6d262d17e",
   "metadata": {},
   "outputs": [],
   "source": [
    "# make the texts and summaries some arrays\n",
    "cleaned_text = np.array(dataframe[\"text\"])\n",
    "cleaned_summary = np.array(dataframe[\"summary\"])\n",
    "\n",
    "# define lists for short text and short summaries\n",
    "short_text = []\n",
    "short_summary = []\n",
    "\n",
    "# clean outliers\n",
    "for i in range(len(cleaned_text)):\n",
    "    if(len(cleaned_summary[i].split()) <= MAX_SUMMARY_LEN and len(cleaned_text[i].split()) <= MAX_TEXT_LEN):\n",
    "        short_text.append(cleaned_text[i])\n",
    "        short_summary.append(cleaned_summary[i])\n",
    "\n",
    "# change the dataframe\n",
    "final_dataframe = pd.DataFrame({\"text\":short_text, \"summary\":short_summary})"
   ]
  },
  {
   "cell_type": "markdown",
   "id": "75e83388-9971-41ee-9412-eda230f60fff",
   "metadata": {},
   "source": [
    "## Adding Tokens\n",
    "We add `soseq ` token to the start of the sequence and the `eoseq ` token to the end of it\n"
   ]
  },
  {
   "cell_type": "code",
   "execution_count": 18,
   "id": "25253b06-fc23-4821-a565-a373e91f1f5f",
   "metadata": {},
   "outputs": [],
   "source": [
    "final_dataframe[\"summary\"] = final_dataframe[\"summary\"].apply(lambda x: \"soseq \" + x + \" eoseq\")"
   ]
  },
  {
   "cell_type": "code",
   "execution_count": 19,
   "id": "7d3da897-1c23-45e5-8df9-e9bd42d6c652",
   "metadata": {},
   "outputs": [
    {
     "name": "stdout",
     "output_type": "stream",
     "text": [
      "\u001b[1mText: \u001b[0mbought several vitality canned dog food products found good quality product looks like stew processed meat smells better labrador finicky appreciates product better\n",
      "\u001b[1mSummary: \u001b[0msoseq good quality dog food eoseq\n",
      "\n",
      "\n",
      "\u001b[1mText: \u001b[0mproduct arrived labeled jumbo salted peanuts peanuts actually small sized unsalted sure error vendor intended represent product jumbo\n",
      "\u001b[1mSummary: \u001b[0msoseq not as advertised eoseq\n",
      "\n",
      "\n",
      "\u001b[1mText: \u001b[0mconfection around centuries light pillowy citrus gelatin nuts case filberts cut tiny squares liberally coated powdered sugar tiny mouthful heaven chewy flavorful highly recommend yummy treat familiar story lewis lion witch wardrobe treat seduces edmund selling brother sisters witch\n",
      "\u001b[1mSummary: \u001b[0msoseq delight says it all eoseq\n",
      "\n",
      "\n"
     ]
    }
   ],
   "source": [
    "# print wome sample of the dataframe\n",
    "for i in range(3):\n",
    "  print(\"\\033[1m\" + \"Text: \" + \"\\033[0m\" + final_dataframe[\"text\"][i])\n",
    "  print(\"\\033[1m\" + \"Summary: \" + \"\\033[0m\" + final_dataframe[\"summary\"][i])\n",
    "  print(\"\\n\")"
   ]
  },
  {
   "cell_type": "markdown",
   "id": "7585f46e-4352-46c4-8b70-7a8aef2b6b96",
   "metadata": {},
   "source": [
    "## Split data into train, test and validation \n",
    "10 percent of data will be used for validation and 5 percent for testing. The left 85% will be dedicated to training.\n",
    "First of, We are going to dedicate 15% for validation and we will select the 5% from the validation data. "
   ]
  },
  {
   "cell_type": "code",
   "execution_count": 20,
   "id": "cbab6490-6589-4b18-a60b-692f11b05abf",
   "metadata": {},
   "outputs": [],
   "source": [
    "# define arrays for datas \n",
    "texts = np.array(final_dataframe[\"text\"])\n",
    "summaries = np.array(final_dataframe[\"summary\"])"
   ]
  },
  {
   "cell_type": "code",
   "execution_count": 21,
   "id": "d8cb8968-effa-4897-8211-4d55b7d35db7",
   "metadata": {},
   "outputs": [],
   "source": [
    "# devide train and validation\n",
    "x_train, x_val, y_train, y_val = tts(texts, summaries, test_size=0.15, random_state=0, shuffle=True)"
   ]
  },
  {
   "cell_type": "code",
   "execution_count": 22,
   "id": "47c4aef1-cff3-4cb3-bd69-cff981f9e6e6",
   "metadata": {},
   "outputs": [],
   "source": [
    "# divide test data from the validation data\n",
    "x_val, x_test, y_val, y_test = tts(x_val, y_val, test_size=0.05, random_state=0, shuffle=True)"
   ]
  },
  {
   "cell_type": "markdown",
   "id": "cd768332-dfb5-4fa0-8ca5-7799c950e621",
   "metadata": {},
   "source": [
    "## Tokenization\n",
    "Tokenizing means assigning a number to each word. To do this, first we calculate the number of common words in both inputs and outputs. By this we can tokenize the top most commont words. After that we tokenize and do zero padding. By zero padding we make the length of all sequences the same so all lengths are equal. In the last paer we delete words that only contain `soseq` and `eoseq` and no other thing."
   ]
  },
  {
   "cell_type": "markdown",
   "id": "027fb79c-ea95-4d29-9d40-68fa1bdf8463",
   "metadata": {},
   "source": [
    "### Input data tokenization"
   ]
  },
  {
   "cell_type": "code",
   "execution_count": 23,
   "id": "818eef78-c18c-41a2-9cf6-4975a3e7352e",
   "metadata": {},
   "outputs": [],
   "source": [
    "# define the x tokenizer \n",
    "x_tokenizer = Tokenizer()\n",
    "x_tokenizer.fit_on_texts(list(x_train))"
   ]
  },
  {
   "cell_type": "code",
   "execution_count": 24,
   "id": "f85f76d6-da28-4b64-9fdb-8dd5ae374ef8",
   "metadata": {},
   "outputs": [],
   "source": [
    "# define the threshold\n",
    "threshold = 4\n",
    "\n",
    "# define variables for total count, count, frequency and total frequency\n",
    "count = 0 # Number of rare words \n",
    "total_count = 0 # count of every unique word in texts \n",
    "freq = 0 \n",
    "total_freq = 0\n",
    "\n",
    "for key, value in x_tokenizer.word_counts.items():\n",
    "  # update counts and frequencies\n",
    "  total_count += 1\n",
    "  # if the value of word was lower than our threshold, count!\n",
    "  if value < threshold:\n",
    "    count += 1"
   ]
  },
  {
   "cell_type": "code",
   "execution_count": 25,
   "id": "5066b0eb-db30-454a-abc4-f5df686b8241",
   "metadata": {},
   "outputs": [],
   "source": [
    "# get the top most common words number \n",
    "common_words = total_count - count \n",
    "\n",
    "# fit the tokenizer \n",
    "x_tokenizer = Tokenizer(num_words=common_words)\n",
    "x_tokenizer.fit_on_texts(list(x_train))\n",
    "\n",
    "# convert text sequence to int\n",
    "x_train_seq = x_tokenizer.texts_to_sequences(x_train)\n",
    "x_val_seq = x_tokenizer.texts_to_sequences(x_val)\n",
    "x_test_seq = x_tokenizer.texts_to_sequences(x_test)\n",
    "\n",
    "# Zero padding \n",
    "x_train = pad_sequences(x_train_seq, maxlen=MAX_TEXT_LEN, padding=\"post\")\n",
    "x_val = pad_sequences(x_val_seq, maxlen=MAX_TEXT_LEN, padding=\"post\")\n",
    "x_test = pad_sequences(x_test_seq, maxlen=MAX_TEXT_LEN, padding=\"post\")\n",
    "\n",
    "# get the size of input vocabulary\n",
    "x_vocab = x_tokenizer.num_words + 1"
   ]
  },
  {
   "cell_type": "code",
   "execution_count": 26,
   "id": "b41de4bc-74ad-4b34-8d73-f9cc08f93614",
   "metadata": {},
   "outputs": [
    {
     "name": "stdout",
     "output_type": "stream",
     "text": [
      "size of input (X) vocabulary: 17209\n"
     ]
    }
   ],
   "source": [
    "print(f\"size of input (X) vocabulary: {x_vocab}\")"
   ]
  },
  {
   "cell_type": "markdown",
   "id": "5964dc39-666e-459d-9d6b-340f15475a96",
   "metadata": {},
   "source": [
    "### Output data tokenization"
   ]
  },
  {
   "cell_type": "code",
   "execution_count": 27,
   "id": "7fc0ef36-1dab-438c-a86d-82d119b0006e",
   "metadata": {},
   "outputs": [],
   "source": [
    "# define the tokenizer \n",
    "y_tokenizer = Tokenizer()\n",
    "y_tokenizer.fit_on_texts(list(y_train))"
   ]
  },
  {
   "cell_type": "code",
   "execution_count": 28,
   "id": "6df95d0c-d57f-4c49-a891-b60d4ff5cc2e",
   "metadata": {},
   "outputs": [],
   "source": [
    "# define the threshold\n",
    "threshold = 6\n",
    "\n",
    "# define variables for total count, count, frequency and total frequency\n",
    "count = 0 # Number of rare words \n",
    "total_count = 0 # count of every unique word in texts \n",
    "freq = 0 \n",
    "total_freq = 0\n",
    "\n",
    "for key, value in y_tokenizer.word_counts.items():\n",
    "  # update counts and frequencies\n",
    "  total_count += 1\n",
    "  # if the value of word was lower than our threshold, count!\n",
    "  if value < threshold:\n",
    "    count += 1"
   ]
  },
  {
   "cell_type": "code",
   "execution_count": 29,
   "id": "179ae59c-781f-4b00-86c2-d7496af9d852",
   "metadata": {},
   "outputs": [],
   "source": [
    "# get the count of common words\n",
    "common_words = total_count - count \n",
    "\n",
    "# fit tokenizer on common words\n",
    "y_tokenizer = Tokenizer(num_words=common_words)\n",
    "y_tokenizer.fit_on_texts(list(y_train))\n",
    "\n",
    "# convert text sequence to int\n",
    "y_train_seq = y_tokenizer.texts_to_sequences(y_train)\n",
    "y_val_seq = y_tokenizer.texts_to_sequences(y_val)\n",
    "y_test_seq = y_tokenizer.texts_to_sequences(y_test)\n",
    "\n",
    "# Zero padding \n",
    "y_train = pad_sequences(y_train_seq, maxlen=MAX_SUMMARY_LEN, padding=\"post\")\n",
    "y_val = pad_sequences(y_val_seq, maxlen=MAX_SUMMARY_LEN, padding=\"post\")\n",
    "y_test = pad_sequences(y_test_seq, maxlen=MAX_SUMMARY_LEN, padding=\"post\")\n",
    "\n",
    "# get the size of output vocabulary\n",
    "y_vocab = y_tokenizer.num_words + 1"
   ]
  },
  {
   "cell_type": "code",
   "execution_count": 30,
   "id": "cdede63f-3451-4ea2-8af2-1528319f7252",
   "metadata": {},
   "outputs": [
    {
     "name": "stdout",
     "output_type": "stream",
     "text": [
      "size of output (Y) vocabulary: 4184\n"
     ]
    }
   ],
   "source": [
    "print(f\"size of output (Y) vocabulary: {y_vocab}\")"
   ]
  },
  {
   "cell_type": "markdown",
   "id": "2162c585-85a9-406d-bdea-a11e915a3ab5",
   "metadata": {},
   "source": [
    "### Remove rows with only start and end tokens (Cleaning part)\n",
    "There are some summaries that just start with `soseq ` amd `eoseq `. We are going to remove them because they are useless. We know that if a summary contains a text, it should have more than 2 words (because of start and end tokens), So to do this we say that if there are just 2 words in the row, remove it. We do this process for train, test and validation datas. "
   ]
  },
  {
   "cell_type": "markdown",
   "id": "ae744a94-1a1a-425d-a1dd-63b44dbe7cfc",
   "metadata": {},
   "source": [
    "#### Train data"
   ]
  },
  {
   "cell_type": "code",
   "execution_count": 31,
   "id": "8dc17735-cfca-4b77-ab5a-8808ae94c5fc",
   "metadata": {},
   "outputs": [],
   "source": [
    "# define a list for index \n",
    "index = []\n",
    "\n",
    "# loop over train data \n",
    "for i in range(len(y_train)):\n",
    "    count = 0\n",
    "    for j in y_train[i]:\n",
    "        if j != 0:\n",
    "            count += 1\n",
    "        # if count of words were 2, remove the data\n",
    "    if count == 2:\n",
    "        index.append(i)\n",
    "\n",
    "# remove rows\n",
    "y_train = np.delete(y_train, index, axis=0)\n",
    "x_train = np.delete(x_train, index, axis=0)"
   ]
  },
  {
   "cell_type": "markdown",
   "id": "3ec8fc3c-6621-4504-b7d8-790aeb79ecb3",
   "metadata": {},
   "source": [
    "#### Validation data"
   ]
  },
  {
   "cell_type": "code",
   "execution_count": 32,
   "id": "d17a7417-aa4a-40cd-a224-7a2b08aeaa92",
   "metadata": {},
   "outputs": [],
   "source": [
    "# define a list for index \n",
    "index = []\n",
    "\n",
    "# loop over train data \n",
    "for i in range(len(y_val)):\n",
    "    count = 0\n",
    "    for j in y_val[i]:\n",
    "        if j != 0:\n",
    "            count += 1\n",
    "        # if count of words were 2, remove the data\n",
    "    if count == 2:\n",
    "        index.append(i)\n",
    "\n",
    "# remove rows\n",
    "y_val = np.delete(y_val, index, axis=0)\n",
    "x_val = np.delete(x_val, index, axis=0)"
   ]
  },
  {
   "cell_type": "markdown",
   "id": "aea29e2c-13a2-431a-833a-63013c9227fd",
   "metadata": {},
   "source": [
    "#### Test data "
   ]
  },
  {
   "cell_type": "code",
   "execution_count": 33,
   "id": "4a3b09e7-abb7-4d38-aa2a-de02df6fad88",
   "metadata": {},
   "outputs": [],
   "source": [
    "# define a list for index \n",
    "index = []\n",
    "\n",
    "# loop over train data \n",
    "for i in range(len(y_test)):\n",
    "    count = 0\n",
    "    for j in y_test[i]:\n",
    "        if j != 0:\n",
    "            count += 1\n",
    "        # if count of words were 2, remove the data\n",
    "    if count == 2:\n",
    "        index.append(i)\n",
    "\n",
    "# remove rows\n",
    "y_test = np.delete(y_test, index, axis=0)\n",
    "x_test = np.delete(x_test, index, axis=0)"
   ]
  },
  {
   "cell_type": "code",
   "execution_count": 34,
   "id": "2be2434c-bdb8-4879-a21c-5fd5fa46620b",
   "metadata": {},
   "outputs": [
    {
     "data": {
      "text/plain": [
       "array([   5,   38,    3, 2870,  146, 1497,   21, 4763,  698, 2033, 1868,\n",
       "        275, 2033, 1868, 2033, 5101,  967, 4014, 1760, 1981,   37, 5479,\n",
       "          5, 3216,    0,    0,    0,    0,    0,    0,    0,    0,    0,\n",
       "          0,    0,    0,    0,    0,    0,    0,    0,    0,    0,    0,\n",
       "          0,    0,    0,    0,    0,    0])"
      ]
     },
     "execution_count": 34,
     "metadata": {},
     "output_type": "execute_result"
    }
   ],
   "source": [
    "x_train[0]"
   ]
  },
  {
   "cell_type": "code",
   "execution_count": 35,
   "id": "8137158e-fbf5-48b6-af02-1f7b853317fd",
   "metadata": {},
   "outputs": [],
   "source": [
    "# setup the datas for training\n",
    "x_train_m = [x_train, y_train[:,:-1]]\n",
    "y_train_m = y_train.reshape(y_train.shape[0],y_train.shape[1], 1)[:,1:]\n",
    "x_val_m = [x_val, y_val[:,:-1]]\n",
    "y_val_m = y_val.reshape(y_val.shape[0],y_val.shape[1], 1)[:,1:]"
   ]
  },
  {
   "cell_type": "markdown",
   "id": "65f88cd2-a3cd-4947-a5a7-0ad8206dcddf",
   "metadata": {},
   "source": [
    "# \n",
    "Model and Training\n",
    "Now the data is ready and we are going to start training the model. In this project we have a sequence as our input and a sequence for our output and because of that, we call the model Seq2Seq (Sequence to Sequence). We implement the seq2seq model using LSTM-RNN. First we define the input. The input goes to the encoder. The state of the encoder gets to the decoder. Then the result of the decoder goes to a attention layer. This layer gets the main focus of the subject and adjust the weights and biases. This image is a simple example of a Seq2Seq model:\n",
    "![111318_0848_seq2seqSequ4.webp](data:image/webp;base64,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)"
   ]
  },
  {
   "cell_type": "code",
   "execution_count": 36,
   "id": "10fb9955-f76d-4f09-81cc-e66abd0b5a30",
   "metadata": {},
   "outputs": [],
   "source": [
    "# define hyperparameters\n",
    "EPOCHS = 50\n",
    "BATCH_SIZE = 256\n",
    "LATENT_DIM = 250\n",
    "EMBED_DIM = 90"
   ]
  },
  {
   "cell_type": "markdown",
   "id": "a6bdec9d-ece2-4243-9dcf-716cc3576c6c",
   "metadata": {},
   "source": [
    "## Model Building"
   ]
  },
  {
   "cell_type": "code",
   "execution_count": 37,
   "id": "59c8ceb9-06b6-4ff7-821f-fb8d0ac0a21e",
   "metadata": {},
   "outputs": [
    {
     "name": "stdout",
     "output_type": "stream",
     "text": [
      "WARNING:tensorflow:Layer enc_lstm_1 will not use cuDNN kernels since it doesn't meet the criteria. It will use a generic GPU kernel as fallback when running on GPU.\n",
      "WARNING:tensorflow:Layer enc_lstm_2 will not use cuDNN kernels since it doesn't meet the criteria. It will use a generic GPU kernel as fallback when running on GPU.\n",
      "WARNING:tensorflow:Layer enc_lstm_3 will not use cuDNN kernels since it doesn't meet the criteria. It will use a generic GPU kernel as fallback when running on GPU.\n",
      "WARNING:tensorflow:Layer decoder_lstm will not use cuDNN kernels since it doesn't meet the criteria. It will use a generic GPU kernel as fallback when running on GPU.\n"
     ]
    }
   ],
   "source": [
    "# -------------------------------------------------------------------- < Encoder > --------------------------------------------------------------------\n",
    "# define the input \n",
    "encoder_input = Input(shape=(MAX_TEXT_LEN, ), name=\"encoder_input\")\n",
    "\n",
    "# Embedding \n",
    "encoder_embed = Embedding(x_vocab, EMBED_DIM, trainable=True, name=\"encoder_embeding\")(encoder_input)\n",
    "\n",
    "# Encoder LSTM Block 1\n",
    "encoder_lstm1 = LSTM(LATENT_DIM, return_sequences=True, return_state=True, dropout=0.4, recurrent_dropout=0.4, name=\"enc_lstm_1\")\n",
    "encoder_output1, state_h1, state_c1 = encoder_lstm1(encoder_embed)\n",
    "\n",
    "# Encoder LSTM Block 2\n",
    "encoder_lstm2 = LSTM(LATENT_DIM, return_sequences=True, return_state=True, dropout=0.4, recurrent_dropout=0.4, name=\"enc_lstm_2\")\n",
    "encoder_output2, state_h2, state_c2 = encoder_lstm2(encoder_output1)\n",
    "\n",
    "# Encoder LSTM Block 3\n",
    "encoder_lstm3 = LSTM(LATENT_DIM, return_sequences=True, return_state=True, dropout=0.4, recurrent_dropout=0.4, name=\"enc_lstm_3\")\n",
    "encoder_output3, state_h3, state_c3 = encoder_lstm3(encoder_output2)\n",
    "\n",
    "# -------------------------------------------------------------------- < Decoder > --------------------------------------------------------------------\n",
    "# define the input \n",
    "decoder_input = Input(shape=(None, ), name=\"decoder_input\")\n",
    "\n",
    "# Embedding for Decoder \n",
    "decoder_embed_layer = Embedding(y_vocab, EMBED_DIM, trainable=True)\n",
    "decoder_embed = decoder_embed_layer(decoder_input)\n",
    "\n",
    "# Decoder LSTM\n",
    "decoder_lstm = LSTM(LATENT_DIM, return_sequences=True, return_state=True, dropout=0.4, recurrent_dropout=0.4, name=\"decoder_lstm\")\n",
    "decoder_lstm_output, decoder_h1, decoder_c1 = decoder_lstm(decoder_embed, initial_state=[state_h3, state_c3])\n",
    "\n",
    "# Attention Layer \n",
    "attention_layer = AttentionLayer(name=\"attention_layer\")\n",
    "attention_output, attention_state = attention_layer([encoder_output3, decoder_lstm_output])\n",
    "\n",
    "# concatinate decoder and attention otuputs \n",
    "decoder_concat = Concatenate(axis=-1, name=\"decoder_concat\")([decoder_lstm_output, attention_output])\n",
    "\n",
    "# Time Distributed Dense \n",
    "decoder_dense = TimeDistributed(Dense(y_vocab, activation=\"softmax\"))\n",
    "decoder_output = decoder_dense(decoder_concat)\n",
    "\n",
    "# define the final model\n",
    "model = Model([encoder_input, decoder_input], decoder_output)"
   ]
  },
  {
   "cell_type": "code",
   "execution_count": 38,
   "id": "08775d1e-cb3d-42f8-8d23-8f8b1e2d26a2",
   "metadata": {},
   "outputs": [
    {
     "name": "stdout",
     "output_type": "stream",
     "text": [
      "Model: \"model\"\n",
      "__________________________________________________________________________________________________\n",
      " Layer (type)                   Output Shape         Param #     Connected to                     \n",
      "==================================================================================================\n",
      " encoder_input (InputLayer)     [(None, 50)]         0           []                               \n",
      "                                                                                                  \n",
      " encoder_embeding (Embedding)   (None, 50, 90)       1548810     ['encoder_input[0][0]']          \n",
      "                                                                                                  \n",
      " enc_lstm_1 (LSTM)              [(None, 50, 250),    341000      ['encoder_embeding[0][0]']       \n",
      "                                 (None, 250),                                                     \n",
      "                                 (None, 250)]                                                     \n",
      "                                                                                                  \n",
      " decoder_input (InputLayer)     [(None, None)]       0           []                               \n",
      "                                                                                                  \n",
      " enc_lstm_2 (LSTM)              [(None, 50, 250),    501000      ['enc_lstm_1[0][0]']             \n",
      "                                 (None, 250),                                                     \n",
      "                                 (None, 250)]                                                     \n",
      "                                                                                                  \n",
      " embedding (Embedding)          (None, None, 90)     376560      ['decoder_input[0][0]']          \n",
      "                                                                                                  \n",
      " enc_lstm_3 (LSTM)              [(None, 50, 250),    501000      ['enc_lstm_2[0][0]']             \n",
      "                                 (None, 250),                                                     \n",
      "                                 (None, 250)]                                                     \n",
      "                                                                                                  \n",
      " decoder_lstm (LSTM)            [(None, None, 250),  341000      ['embedding[0][0]',              \n",
      "                                 (None, 250),                     'enc_lstm_3[0][1]',             \n",
      "                                 (None, 250)]                     'enc_lstm_3[0][2]']             \n",
      "                                                                                                  \n",
      " attention_layer (AttentionLaye  ((None, None, 250),  125250     ['enc_lstm_3[0][0]',             \n",
      " r)                              (None, None, 50))                'decoder_lstm[0][0]']           \n",
      "                                                                                                  \n",
      " decoder_concat (Concatenate)   (None, None, 500)    0           ['decoder_lstm[0][0]',           \n",
      "                                                                  'attention_layer[0][0]']        \n",
      "                                                                                                  \n",
      " time_distributed (TimeDistribu  (None, None, 4184)  2096184     ['decoder_concat[0][0]']         \n",
      " ted)                                                                                             \n",
      "                                                                                                  \n",
      "==================================================================================================\n",
      "Total params: 5,830,804\n",
      "Trainable params: 5,830,804\n",
      "Non-trainable params: 0\n",
      "__________________________________________________________________________________________________\n"
     ]
    }
   ],
   "source": [
    "# see the model summary\n",
    "model.summary()"
   ]
  },
  {
   "cell_type": "code",
   "execution_count": 39,
   "id": "c4458fbe-fa69-41da-8921-d7b58e4a2726",
   "metadata": {},
   "outputs": [],
   "source": [
    "# compile the model\n",
    "model.compile(optimizer='rmsprop', loss='sparse_categorical_crossentropy', metrics=[\"accuracy\"])"
   ]
  },
  {
   "cell_type": "code",
   "execution_count": 40,
   "id": "f3a98a1d-eb80-4947-856f-2ba90a43ccd0",
   "metadata": {},
   "outputs": [],
   "source": [
    "# define callbacks\n",
    "early_stopping = EarlyStopping(monitor='val_loss', mode='min', verbose=1, patience=2)\n",
    "reduce_lr = ReduceLROnPlateau(monitor='val_loss', factor=0.15, patience=2, min_lr=0.0001)"
   ]
  },
  {
   "cell_type": "markdown",
   "id": "eb4012fa-2331-4b93-b1ce-f345969a95b8",
   "metadata": {},
   "source": [
    "## Model Training"
   ]
  },
  {
   "cell_type": "code",
   "execution_count": 41,
   "id": "9a5e140e-cad5-4708-b4bd-0d8440a00bd8",
   "metadata": {},
   "outputs": [
    {
     "data": {
      "text/plain": [
       "<tensorflow.python.checkpoint.checkpoint.CheckpointLoadStatus at 0x1a3d9ed8b20>"
      ]
     },
     "execution_count": 41,
     "metadata": {},
     "output_type": "execute_result"
    }
   ],
   "source": [
    "# Uncomment if want to continue training or load model\n",
    "model.load_weights(\"Model Weights/weights\")"
   ]
  },
  {
   "cell_type": "code",
   "execution_count": 85,
   "id": "52c30ba0-b451-413f-8e53-b2f6a6cc381b",
   "metadata": {},
   "outputs": [
    {
     "name": "stdout",
     "output_type": "stream",
     "text": [
      "Epoch 1/50\n",
      "497/497 [==============================] - 483s 954ms/step - loss: 2.5416 - accuracy: 0.6261 - val_loss: 2.2910 - val_accuracy: 0.6459 - lr: 0.0010\n",
      "Epoch 2/50\n",
      "497/497 [==============================] - 470s 946ms/step - loss: 2.2271 - accuracy: 0.6524 - val_loss: 2.1313 - val_accuracy: 0.6604 - lr: 0.0010\n",
      "Epoch 3/50\n",
      "497/497 [==============================] - 470s 946ms/step - loss: 2.0874 - accuracy: 0.6643 - val_loss: 2.0247 - val_accuracy: 0.6703 - lr: 0.0010\n",
      "Epoch 4/50\n",
      "497/497 [==============================] - 471s 948ms/step - loss: 2.0015 - accuracy: 0.6712 - val_loss: 1.9610 - val_accuracy: 0.6750 - lr: 0.0010\n",
      "Epoch 5/50\n",
      "497/497 [==============================] - 471s 949ms/step - loss: 1.9370 - accuracy: 0.6764 - val_loss: 1.9118 - val_accuracy: 0.6798 - lr: 0.0010\n",
      "Epoch 6/50\n",
      "497/497 [==============================] - 477s 959ms/step - loss: 1.8868 - accuracy: 0.6807 - val_loss: 1.8840 - val_accuracy: 0.6820 - lr: 0.0010\n",
      "Epoch 7/50\n",
      "497/497 [==============================] - 474s 954ms/step - loss: 1.8453 - accuracy: 0.6839 - val_loss: 1.8517 - val_accuracy: 0.6850 - lr: 0.0010\n",
      "Epoch 8/50\n",
      "497/497 [==============================] - 469s 944ms/step - loss: 1.8114 - accuracy: 0.6867 - val_loss: 1.8316 - val_accuracy: 0.6867 - lr: 0.0010\n",
      "Epoch 9/50\n",
      "497/497 [==============================] - 470s 944ms/step - loss: 1.7829 - accuracy: 0.6892 - val_loss: 1.8168 - val_accuracy: 0.6880 - lr: 0.0010\n",
      "Epoch 10/50\n",
      "497/497 [==============================] - 466s 937ms/step - loss: 1.7583 - accuracy: 0.6911 - val_loss: 1.8041 - val_accuracy: 0.6896 - lr: 0.0010\n",
      "Epoch 11/50\n",
      "497/497 [==============================] - 470s 946ms/step - loss: 1.7370 - accuracy: 0.6927 - val_loss: 1.7922 - val_accuracy: 0.6900 - lr: 0.0010\n",
      "Epoch 12/50\n",
      "497/497 [==============================] - 464s 933ms/step - loss: 1.7172 - accuracy: 0.6946 - val_loss: 1.7858 - val_accuracy: 0.6905 - lr: 0.0010\n",
      "Epoch 13/50\n",
      "497/497 [==============================] - 476s 957ms/step - loss: 1.6994 - accuracy: 0.6959 - val_loss: 1.7787 - val_accuracy: 0.6912 - lr: 0.0010\n",
      "Epoch 14/50\n",
      "497/497 [==============================] - 468s 941ms/step - loss: 1.6847 - accuracy: 0.6971 - val_loss: 1.7738 - val_accuracy: 0.6920 - lr: 0.0010\n",
      "Epoch 15/50\n",
      "497/497 [==============================] - 474s 954ms/step - loss: 1.6697 - accuracy: 0.6984 - val_loss: 1.7699 - val_accuracy: 0.6924 - lr: 0.0010\n",
      "Epoch 16/50\n",
      "497/497 [==============================] - 469s 942ms/step - loss: 1.6577 - accuracy: 0.6993 - val_loss: 1.7653 - val_accuracy: 0.6922 - lr: 0.0010\n",
      "Epoch 17/50\n",
      "497/497 [==============================] - 467s 940ms/step - loss: 1.6455 - accuracy: 0.7005 - val_loss: 1.7643 - val_accuracy: 0.6928 - lr: 0.0010\n",
      "Epoch 18/50\n",
      "497/497 [==============================] - 468s 942ms/step - loss: 1.6349 - accuracy: 0.7011 - val_loss: 1.7637 - val_accuracy: 0.6930 - lr: 0.0010\n",
      "Epoch 19/50\n",
      "497/497 [==============================] - 471s 948ms/step - loss: 1.6239 - accuracy: 0.7022 - val_loss: 1.7580 - val_accuracy: 0.6934 - lr: 0.0010\n",
      "Epoch 20/50\n",
      "497/497 [==============================] - 467s 939ms/step - loss: 1.6148 - accuracy: 0.7031 - val_loss: 1.7594 - val_accuracy: 0.6924 - lr: 0.0010\n",
      "Epoch 21/50\n",
      "497/497 [==============================] - 469s 944ms/step - loss: 1.6051 - accuracy: 0.7040 - val_loss: 1.7572 - val_accuracy: 0.6935 - lr: 0.0010\n",
      "Epoch 22/50\n",
      "497/497 [==============================] - 470s 947ms/step - loss: 1.5960 - accuracy: 0.7046 - val_loss: 1.7559 - val_accuracy: 0.6939 - lr: 0.0010\n",
      "Epoch 23/50\n",
      "497/497 [==============================] - 469s 944ms/step - loss: 1.5876 - accuracy: 0.7054 - val_loss: 1.7535 - val_accuracy: 0.6927 - lr: 0.0010\n",
      "Epoch 24/50\n",
      "497/497 [==============================] - 471s 949ms/step - loss: 1.5800 - accuracy: 0.7063 - val_loss: 1.7631 - val_accuracy: 0.6927 - lr: 0.0010\n",
      "Epoch 25/50\n",
      "497/497 [==============================] - 469s 944ms/step - loss: 1.5716 - accuracy: 0.7071 - val_loss: 1.7581 - val_accuracy: 0.6934 - lr: 0.0010\n",
      "Epoch 25: early stopping\n"
     ]
    }
   ],
   "source": [
    "history = model.fit(x_train_m, y_train_m, batch_size=BATCH_SIZE, epochs=EPOCHS, validation_data=(x_val_m, y_val_m), callbacks=[early_stopping, reduce_lr])"
   ]
  },
  {
   "cell_type": "code",
   "execution_count": 111,
   "id": "52b9a559-d5ab-47ac-9fa4-1e422b052442",
   "metadata": {},
   "outputs": [],
   "source": [
    "# save model and it's weights\n",
    "#model.save_weights(\"Model Weights/weights\")"
   ]
  },
  {
   "cell_type": "code",
   "execution_count": 87,
   "id": "6f477a6f-6079-4133-a16f-8ef8526d8633",
   "metadata": {},
   "outputs": [
    {
     "data": {
      "image/png": "[encoded data removed]",
      "text/plain": [
       "<Figure size 640x480 with 1 Axes>"
      ]
     },
     "metadata": {},
     "output_type": "display_data"
    }
   ],
   "source": [
    "# fraw plots \n",
    "plt.plot(history.history['loss'], label='train')\n",
    "plt.plot(history.history['val_loss'], label='test')\n",
    "plt.legend()\n",
    "plt.show()"
   ]
  },
  {
   "cell_type": "markdown",
   "id": "3e3796de-7fc8-4d2a-bba8-862d5a87535d",
   "metadata": {},
   "source": [
    "## Model Testing and Evaluation"
   ]
  },
  {
   "cell_type": "markdown",
   "id": "ba5e086b-13c0-4858-9a3c-3399b4190ca0",
   "metadata": {},
   "source": [
    "Now the model is trained we are going to test and evaluate the model. To do this first we are going to make the trained layers prepared for single prediction. Then, Some functions should be defined that transform sequences to texts and texts to sequences! At the end, we are going to define a function for single prediction."
   ]
  },
  {
   "cell_type": "code",
   "execution_count": 74,
   "id": "7dc5aed3-5983-4c1e-9834-0658ccbdba69",
   "metadata": {},
   "outputs": [],
   "source": [
    "# save the tokenizer \n",
    "with open('xtokenizer.pickle', 'wb') as handle:\n",
    "    pickle.dump(x_tokenizer, handle, protocol=pickle.HIGHEST_PROTOCOL)\n",
    "\n",
    "with open('ytokenizer.pickle', 'wb') as handle:\n",
    "    pickle.dump(y_tokenizer, handle, protocol=pickle.HIGHEST_PROTOCOL)"
   ]
  },
  {
   "cell_type": "markdown",
   "id": "18adfd7c-8629-48f1-a5b0-493e87c00155",
   "metadata": {},
   "source": [
    "### Ready layers for prediction"
   ]
  },
  {
   "cell_type": "code",
   "execution_count": 42,
   "id": "8e3be044-4d92-4f7b-9219-eabc9fa417ec",
   "metadata": {},
   "outputs": [],
   "source": [
    "# set tokenizerz for predictions\n",
    "reverse_target_word_index = y_tokenizer.index_word\n",
    "reverse_source_word_index = x_tokenizer.index_word\n",
    "target_word_index = y_tokenizer.word_index"
   ]
  },
  {
   "cell_type": "code",
   "execution_count": 44,
   "id": "41c2056a-2649-4e9a-904b-090c6536d978",
   "metadata": {},
   "outputs": [],
   "source": [
    "# define s single model for encoder\n",
    "encoder_model = Model(encoder_input, outputs=[encoder_output3, state_h3, state_c3])\n",
    "\n",
    "# ---------- < DECODER > ----------\n",
    "# define inputs \n",
    "decoder_input_state_h = Input(shape=(LATENT_DIM, ))\n",
    "decoder_input_state_c = Input(shape=(LATENT_DIM, ))\n",
    "decoder_input_state_hidden = Input(shape=(MAX_TEXT_LEN, LATENT_DIM))\n",
    "\n",
    "# Embedding of the decoder \n",
    "decoder_embedding_pred = decoder_embed_layer(decoder_input)\n",
    "# Decoder LSTM (For making prediction, the state of the decoder should be set to the state of its previos time step)\n",
    "decoder_output_p, state_h_p, state_c_p = decoder_lstm(decoder_embedding_pred, initial_state=[decoder_input_state_h, decoder_input_state_c])\n",
    "\n",
    "# Attention\n",
    "attention_out_inference, attention_state_inference = attention_layer([decoder_input_state_hidden, decoder_output_p])\n",
    "decoder_concat = Concatenate(axis=-1, name=\"concat_attention\")([decoder_output_p, attention_out_inference])\n",
    "\n",
    "# Final prediction\n",
    "decoder_final_output = decoder_dense(decoder_concat)\n",
    "\n",
    "# make the final decoder model\n",
    "decoder_model = Model(\n",
    "    [decoder_input] + [decoder_input_state_hidden, decoder_input_state_h, decoder_input_state_c],\n",
    "    [decoder_final_output] + [state_h_p, state_c_p])"
   ]
  },
  {
   "cell_type": "markdown",
   "id": "37bee201-c877-43aa-97ae-531fdfc6f7b2",
   "metadata": {},
   "source": [
    "### Sequence decoding\n",
    "The way that the model makes prediction is that, the encoder predicts, then the prediction of the encoder gets decoded and this should be done using a function"
   ]
  },
  {
   "cell_type": "code",
   "execution_count": 64,
   "id": "d34fba65-ab6f-40b5-84a4-527928a42c75",
   "metadata": {},
   "outputs": [],
   "source": [
    "def sequence_decoder(input_sequence):\n",
    "    \"\"\"\n",
    "    This function decods the sequence predicted\n",
    "    \"\"\"\n",
    "    # encode the input \n",
    "    encoder_output, encoder_h, encoder_c = encoder_model.predict(input_sequence, verbose=None)\n",
    "    # Define an embpy target with it's first woed set to input sequence \n",
    "    target_sequence = np.zeros((1, 1))\n",
    "    target_sequence[0, 0] = target_word_index[\"soseq\"]\n",
    "\n",
    "    # define variables for when to stop and the decoded sentence\n",
    "    decoded_sentence = \"\"\n",
    "    stop = False\n",
    "\n",
    "    while not stop:\n",
    "        # when we did not reach the place to stop (eoseq), decode \n",
    "        output_token, h, c = decoder_model.predict([target_sequence] + [encoder_output, encoder_h, encoder_c], verbose=None)\n",
    "\n",
    "        # predict token\n",
    "        predicted_token_index = np.argmax(output_token[0, -1, :])\n",
    "        predicted_token = reverse_target_word_index[predicted_token_index]\n",
    "        \n",
    "        # if the token was not end of sequence, continue and add the predicted token to the dcecoded sentence variable \n",
    "        if  predicted_token != \"eoseq\":\n",
    "            decoded_sentence += \" \" + predicted_token\n",
    "\n",
    "        # if we've reached eoseq token or reached the summary length limit, make the stop state true \n",
    "        if predicted_token == \"eoseq\" or len(decoded_sentence.split()) >= MAX_SUMMARY_LEN - 1:\n",
    "            stop = True\n",
    "\n",
    "        # update the target sequence \n",
    "        target_sequence = np.zeros((1,1))\n",
    "        target_sequence[0, 0] = predicted_token_index\n",
    "\n",
    "        # Update internal states\n",
    "        encoder_h, encoder_c = h, c\n",
    "\n",
    "    return decoded_sentence"
   ]
  },
  {
   "cell_type": "code",
   "execution_count": 65,
   "id": "4e5c0b04-51a9-49c1-820f-887bf18283b5",
   "metadata": {},
   "outputs": [],
   "source": [
    "def sequence_to_summary(input_seuqnece):\n",
    "    \"\"\"\n",
    "    This function converts sequence into text (in this case summary)\n",
    "    \"\"\"\n",
    "    sentence = \"\"\n",
    "    # loop over the input sequence \n",
    "    for i in input_seuqnece:\n",
    "        if i != 0 and i != target_word_index[\"soseq\"] and i != target_word_index[\"eoseq\"]:\n",
    "            sentence = sentence + reverse_source_word_index[i] + \" \"\n",
    "\n",
    "    return sentence"
   ]
  },
  {
   "cell_type": "code",
   "execution_count": 66,
   "id": "825a1907-3ea9-4bd9-b180-cdaedfbaf6b4",
   "metadata": {},
   "outputs": [],
   "source": [
    "def sequence_to_text(input_seuqnece):\n",
    "    \"\"\"\n",
    "    This function converts sequence into text (in this case text)\n",
    "    This function is going to be used only for testing the model on test data \n",
    "    \"\"\"\n",
    "    sentence = \"\"\n",
    "    # loop over the input sequence \n",
    "    for i in input_seuqnece:\n",
    "        if i != 0 :\n",
    "            sentence = sentence + reverse_source_word_index[i] + \" \"\n",
    "\n",
    "    return sentence"
   ]
  },
  {
   "cell_type": "code",
   "execution_count": 68,
   "id": "385ac3e0-75df-4b67-9734-66af9b71dab3",
   "metadata": {
    "scrolled": true
   },
   "outputs": [
    {
     "name": "stdout",
     "output_type": "stream",
     "text": [
      "Review: delightful item place bottom champagne added sweet twist holiday party made drink look wonderful loved well priced \n",
      "Original summary: price ever \n",
      "Predicted summary:  delicious\n",
      "\n",
      "\n",
      "Review: found health stores markets shop gotten reg pretzels brand sourdough taste sourdough flavor much salt excited find getting bit disappointment also label says spelt concern mine eating wheat spelt pretzels \n",
      "Original summary: great local \n",
      "Predicted summary:  good pretzels\n",
      "\n",
      "\n",
      "Review: assuming reading review realize instant coffee know means us like prefer ease instant coffee make strong weak like mint chocolate good job masking fact instant coffee one potentially negative comment would mint fresh strongest flavors \n",
      "Original summary: little nutritious little water way go better \n",
      "Predicted summary:  it is ok\n",
      "\n",
      "\n",
      "Review: almond accents oz bags used sold costco stopped carrying happy sold amazon meeting price quality requirements \n",
      "Original summary: olive texture \n",
      "Predicted summary:  great product\n",
      "\n",
      "\n",
      "Review: would preferred expiration date bit farther along five months considering buying six jars future going wait find stuff sale local store buy \n",
      "Original summary: cool occasions \n",
      "Predicted summary:  good product\n",
      "\n",
      "\n"
     ]
    }
   ],
   "source": [
    "for i in range(50, 55):\n",
    "    print(\"Review:\", sequence_to_text(x_test[i]))\n",
    "    print(\"Original summary:\", sequence_to_summary(y_test[i]))\n",
    "    print(\"Predicted summary:\", sequence_decoder(x_test[i].reshape(1,MAX_TEXT_LEN)))\n",
    "    print(\"\\n\")"
   ]
  }
 ],
 "metadata": {
  "kernelspec": {
   "display_name": "Python 3 (ipykernel)",
   "language": "python",
   "name": "python3"
  },
  "language_info": {
   "codemirror_mode": {
    "name": "ipython",
    "version": 3
   },
   "file_extension": ".py",
   "mimetype": "text/x-python",
   "name": "python",
   "nbconvert_exporter": "python",
   "pygments_lexer": "ipython3",
   "version": "3.8.7"
  }
 },
 "nbformat": 4,
 "nbformat_minor": 5
}
